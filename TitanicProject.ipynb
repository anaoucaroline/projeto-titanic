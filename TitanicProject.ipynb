{
 "cells": [
  {
   "cell_type": "markdown",
   "id": "bca773a0",
   "metadata": {},
   "source": [
    "# 🛳️ Projeto Titanic – Kaggle\n",
    "\n",
    "Este notebook tem como objetivo analisar os dados do Titanic, tratar os valores ausentes e treinar modelos para prever quais passageiros sobreviveram.\n"
   ]
  },
  {
   "cell_type": "markdown",
   "id": "d63876c8",
   "metadata": {},
   "source": [
    "## 📁 1. Importação de bibliotecas e leitura dos dados\n",
    "\n",
    "Vamos importar o pandas e carregar o arquivo `train.csv` para começar a análise."
   ]
  },
  {
   "cell_type": "code",
   "execution_count": 1,
   "id": "944bd4cd",
   "metadata": {},
   "outputs": [
    {
     "data": {
      "text/html": [
       "<div>\n",
       "<style scoped>\n",
       "    .dataframe tbody tr th:only-of-type {\n",
       "        vertical-align: middle;\n",
       "    }\n",
       "\n",
       "    .dataframe tbody tr th {\n",
       "        vertical-align: top;\n",
       "    }\n",
       "\n",
       "    .dataframe thead th {\n",
       "        text-align: right;\n",
       "    }\n",
       "</style>\n",
       "<table border=\"1\" class=\"dataframe\">\n",
       "  <thead>\n",
       "    <tr style=\"text-align: right;\">\n",
       "      <th></th>\n",
       "      <th>PassengerId</th>\n",
       "      <th>Survived</th>\n",
       "      <th>Pclass</th>\n",
       "      <th>Name</th>\n",
       "      <th>Sex</th>\n",
       "      <th>Age</th>\n",
       "      <th>SibSp</th>\n",
       "      <th>Parch</th>\n",
       "      <th>Ticket</th>\n",
       "      <th>Fare</th>\n",
       "      <th>Cabin</th>\n",
       "      <th>Embarked</th>\n",
       "    </tr>\n",
       "  </thead>\n",
       "  <tbody>\n",
       "    <tr>\n",
       "      <th>0</th>\n",
       "      <td>1</td>\n",
       "      <td>0</td>\n",
       "      <td>3</td>\n",
       "      <td>Braund, Mr. Owen Harris</td>\n",
       "      <td>male</td>\n",
       "      <td>22.0</td>\n",
       "      <td>1</td>\n",
       "      <td>0</td>\n",
       "      <td>A/5 21171</td>\n",
       "      <td>7.2500</td>\n",
       "      <td>NaN</td>\n",
       "      <td>S</td>\n",
       "    </tr>\n",
       "    <tr>\n",
       "      <th>1</th>\n",
       "      <td>2</td>\n",
       "      <td>1</td>\n",
       "      <td>1</td>\n",
       "      <td>Cumings, Mrs. John Bradley (Florence Briggs Th...</td>\n",
       "      <td>female</td>\n",
       "      <td>38.0</td>\n",
       "      <td>1</td>\n",
       "      <td>0</td>\n",
       "      <td>PC 17599</td>\n",
       "      <td>71.2833</td>\n",
       "      <td>C85</td>\n",
       "      <td>C</td>\n",
       "    </tr>\n",
       "    <tr>\n",
       "      <th>2</th>\n",
       "      <td>3</td>\n",
       "      <td>1</td>\n",
       "      <td>3</td>\n",
       "      <td>Heikkinen, Miss. Laina</td>\n",
       "      <td>female</td>\n",
       "      <td>26.0</td>\n",
       "      <td>0</td>\n",
       "      <td>0</td>\n",
       "      <td>STON/O2. 3101282</td>\n",
       "      <td>7.9250</td>\n",
       "      <td>NaN</td>\n",
       "      <td>S</td>\n",
       "    </tr>\n",
       "    <tr>\n",
       "      <th>3</th>\n",
       "      <td>4</td>\n",
       "      <td>1</td>\n",
       "      <td>1</td>\n",
       "      <td>Futrelle, Mrs. Jacques Heath (Lily May Peel)</td>\n",
       "      <td>female</td>\n",
       "      <td>35.0</td>\n",
       "      <td>1</td>\n",
       "      <td>0</td>\n",
       "      <td>113803</td>\n",
       "      <td>53.1000</td>\n",
       "      <td>C123</td>\n",
       "      <td>S</td>\n",
       "    </tr>\n",
       "    <tr>\n",
       "      <th>4</th>\n",
       "      <td>5</td>\n",
       "      <td>0</td>\n",
       "      <td>3</td>\n",
       "      <td>Allen, Mr. William Henry</td>\n",
       "      <td>male</td>\n",
       "      <td>35.0</td>\n",
       "      <td>0</td>\n",
       "      <td>0</td>\n",
       "      <td>373450</td>\n",
       "      <td>8.0500</td>\n",
       "      <td>NaN</td>\n",
       "      <td>S</td>\n",
       "    </tr>\n",
       "  </tbody>\n",
       "</table>\n",
       "</div>"
      ],
      "text/plain": [
       "   PassengerId  Survived  Pclass  \\\n",
       "0            1         0       3   \n",
       "1            2         1       1   \n",
       "2            3         1       3   \n",
       "3            4         1       1   \n",
       "4            5         0       3   \n",
       "\n",
       "                                                Name     Sex   Age  SibSp  \\\n",
       "0                            Braund, Mr. Owen Harris    male  22.0      1   \n",
       "1  Cumings, Mrs. John Bradley (Florence Briggs Th...  female  38.0      1   \n",
       "2                             Heikkinen, Miss. Laina  female  26.0      0   \n",
       "3       Futrelle, Mrs. Jacques Heath (Lily May Peel)  female  35.0      1   \n",
       "4                           Allen, Mr. William Henry    male  35.0      0   \n",
       "\n",
       "   Parch            Ticket     Fare Cabin Embarked  \n",
       "0      0         A/5 21171   7.2500   NaN        S  \n",
       "1      0          PC 17599  71.2833   C85        C  \n",
       "2      0  STON/O2. 3101282   7.9250   NaN        S  \n",
       "3      0            113803  53.1000  C123        S  \n",
       "4      0            373450   8.0500   NaN        S  "
      ]
     },
     "execution_count": 1,
     "metadata": {},
     "output_type": "execute_result"
    }
   ],
   "source": [
    "# importar biblioteca pandas\n",
    "import pandas as pd\n",
    "\n",
    "# carregar o arquivo\n",
    "df = pd.read_csv('train.csv')\n",
    "\n",
    "# visualizar as 5 primeiras linhas\n",
    "df.head()"
   ]
  },
  {
   "cell_type": "markdown",
   "id": "cc6ff4de",
   "metadata": {},
   "source": [
    "## 🔍 2. Análise inicial dos dados\n",
    "\n",
    "Vamos ver como os dados estão organizados, identificar colunas importantes e verificar valores ausentes."
   ]
  },
  {
   "cell_type": "code",
   "execution_count": 2,
   "id": "6a05b730",
   "metadata": {},
   "outputs": [
    {
     "name": "stdout",
     "output_type": "stream",
     "text": [
      "<class 'pandas.core.frame.DataFrame'>\n",
      "RangeIndex: 891 entries, 0 to 890\n",
      "Data columns (total 12 columns):\n",
      " #   Column       Non-Null Count  Dtype  \n",
      "---  ------       --------------  -----  \n",
      " 0   PassengerId  891 non-null    int64  \n",
      " 1   Survived     891 non-null    int64  \n",
      " 2   Pclass       891 non-null    int64  \n",
      " 3   Name         891 non-null    object \n",
      " 4   Sex          891 non-null    object \n",
      " 5   Age          714 non-null    float64\n",
      " 6   SibSp        891 non-null    int64  \n",
      " 7   Parch        891 non-null    int64  \n",
      " 8   Ticket       891 non-null    object \n",
      " 9   Fare         891 non-null    float64\n",
      " 10  Cabin        204 non-null    object \n",
      " 11  Embarked     889 non-null    object \n",
      "dtypes: float64(2), int64(5), object(5)\n",
      "memory usage: 83.7+ KB\n"
     ]
    },
    {
     "data": {
      "text/plain": [
       "PassengerId      0\n",
       "Survived         0\n",
       "Pclass           0\n",
       "Name             0\n",
       "Sex              0\n",
       "Age            177\n",
       "SibSp            0\n",
       "Parch            0\n",
       "Ticket           0\n",
       "Fare             0\n",
       "Cabin          687\n",
       "Embarked         2\n",
       "dtype: int64"
      ]
     },
     "execution_count": 2,
     "metadata": {},
     "output_type": "execute_result"
    }
   ],
   "source": [
    "# ver informações gerais das colunas\n",
    "df.info()\n",
    "\n",
    "# ver total de valores nulos por colunas\n",
    "df.isnull().sum()"
   ]
  },
  {
   "cell_type": "markdown",
   "id": "def49941",
   "metadata": {},
   "source": [
    "## 🧩 3. Criar coluna NoAgeNoCabin\n",
    "\n",
    "Antes de preencher a idade, vamos criar uma coluna chamada `NoAgeNoCabin` que marca os passageiros que não têm `Age` **nem** `Cabin`. A ausência dessas duas informações parece estar muito associada à não sobrevivência."
   ]
  },
  {
   "cell_type": "code",
   "execution_count": 3,
   "id": "d66715d3",
   "metadata": {},
   "outputs": [
    {
     "data": {
      "text/html": [
       "<div>\n",
       "<style scoped>\n",
       "    .dataframe tbody tr th:only-of-type {\n",
       "        vertical-align: middle;\n",
       "    }\n",
       "\n",
       "    .dataframe tbody tr th {\n",
       "        vertical-align: top;\n",
       "    }\n",
       "\n",
       "    .dataframe thead th {\n",
       "        text-align: right;\n",
       "    }\n",
       "</style>\n",
       "<table border=\"1\" class=\"dataframe\">\n",
       "  <thead>\n",
       "    <tr style=\"text-align: right;\">\n",
       "      <th></th>\n",
       "      <th>Age</th>\n",
       "      <th>Cabin</th>\n",
       "      <th>NoAgeNoCabin</th>\n",
       "    </tr>\n",
       "  </thead>\n",
       "  <tbody>\n",
       "    <tr>\n",
       "      <th>0</th>\n",
       "      <td>22.0</td>\n",
       "      <td>NaN</td>\n",
       "      <td>False</td>\n",
       "    </tr>\n",
       "    <tr>\n",
       "      <th>1</th>\n",
       "      <td>38.0</td>\n",
       "      <td>C85</td>\n",
       "      <td>False</td>\n",
       "    </tr>\n",
       "    <tr>\n",
       "      <th>2</th>\n",
       "      <td>26.0</td>\n",
       "      <td>NaN</td>\n",
       "      <td>False</td>\n",
       "    </tr>\n",
       "    <tr>\n",
       "      <th>3</th>\n",
       "      <td>35.0</td>\n",
       "      <td>C123</td>\n",
       "      <td>False</td>\n",
       "    </tr>\n",
       "    <tr>\n",
       "      <th>4</th>\n",
       "      <td>35.0</td>\n",
       "      <td>NaN</td>\n",
       "      <td>False</td>\n",
       "    </tr>\n",
       "  </tbody>\n",
       "</table>\n",
       "</div>"
      ],
      "text/plain": [
       "    Age Cabin  NoAgeNoCabin\n",
       "0  22.0   NaN         False\n",
       "1  38.0   C85         False\n",
       "2  26.0   NaN         False\n",
       "3  35.0  C123         False\n",
       "4  35.0   NaN         False"
      ]
     },
     "execution_count": 3,
     "metadata": {},
     "output_type": "execute_result"
    }
   ],
   "source": [
    "# criar coluna 'NoAgeNoCabin' (true para quem não tem Age e nem Cabin informados)\n",
    "df ['NoAgeNoCabin'] = df['Age'].isnull() & df['Cabin'].isnull()\n",
    "\n",
    "# ver as primeiras linhas para conferir\n",
    "df[['Age', 'Cabin', 'NoAgeNoCabin']].head()\n"
   ]
  },
  {
   "cell_type": "code",
   "execution_count": 4,
   "id": "4fbe61c3",
   "metadata": {},
   "outputs": [
    {
     "data": {
      "text/plain": [
       "158"
      ]
     },
     "execution_count": 4,
     "metadata": {},
     "output_type": "execute_result"
    }
   ],
   "source": [
    "# ver quantas pessoas se encaixam nesse caso\n",
    "df['NoAgeNoCabin'].sum()"
   ]
  },
  {
   "cell_type": "code",
   "execution_count": 5,
   "id": "e4fcaec6",
   "metadata": {},
   "outputs": [
    {
     "data": {
      "text/plain": [
       "0    117\n",
       "1     41\n",
       "Name: Survived, dtype: int64"
      ]
     },
     "execution_count": 5,
     "metadata": {},
     "output_type": "execute_result"
    }
   ],
   "source": [
    "# filtrar apenas quem não tem age nem cabin\n",
    "sem_age_cabin = df[df['NoAgeNoCabin'] == True]\n",
    "\n",
    "# contar quantos sobreviveram (1) e quantos não (0)\n",
    "sem_age_cabin['Survived'].value_counts()"
   ]
  },
  {
   "cell_type": "markdown",
   "id": "eda45d8f",
   "metadata": {},
   "source": [
    "## 📊 4. Análise dos passageiros com Age ausente\n",
    "\n",
    "Vamos analisar quantos passageiros com idade ausente estão em cada classe (`Pclass`) e seu sexo (`Sex`). Isso vai nos ajudar a escolher valores apropriados para preencher."
   ]
  },
  {
   "cell_type": "code",
   "execution_count": 6,
   "id": "f011ef0d",
   "metadata": {},
   "outputs": [
    {
     "name": "stdout",
     "output_type": "stream",
     "text": [
      "Classe dos passageiros sem idade:\n",
      "3    136\n",
      "1     30\n",
      "2     11\n",
      "Name: Pclass, dtype: int64\n",
      "\n",
      "Sexo dos passageiros sem idade:\n",
      "male      124\n",
      "female     53\n",
      "Name: Sex, dtype: int64\n",
      "\n",
      "Sexo e classe dos passageiros sem idade:\n",
      "Sex     Pclass\n",
      "female  1          9\n",
      "        2          2\n",
      "        3         42\n",
      "male    1         21\n",
      "        2          9\n",
      "        3         94\n",
      "dtype: int64\n"
     ]
    }
   ],
   "source": [
    "# filtrar apenas passageiros sem idade\n",
    "sem_idade = df[df[\"Age\"].isnull()]\n",
    "\n",
    "# ver contagem por classe\n",
    "print(\"Classe dos passageiros sem idade:\")\n",
    "print(sem_idade[\"Pclass\"].value_counts())\n",
    "\n",
    "# ver contagem por sexo\n",
    "print(\"\\nSexo dos passageiros sem idade:\")\n",
    "print(sem_idade[\"Sex\"].value_counts())\n",
    "\n",
    "# cruzar sexo e classe\n",
    "print(\"\\nSexo e classe dos passageiros sem idade:\")\n",
    "print(sem_idade.groupby([\"Sex\", \"Pclass\"]).size())"
   ]
  },
  {
   "cell_type": "markdown",
   "id": "5c899474",
   "metadata": {},
   "source": [
    "## 🧮 5. Calcular e usar medianas para preencher Age\n",
    "\n",
    "Vamos calcular a mediana da idade dos passageiros da 3ª classe, separando por sexo. Em seguida, vamos usar essas medianas para preencher os valores ausentes de `Age`."
   ]
  },
  {
   "cell_type": "code",
   "execution_count": 7,
   "id": "103414d2",
   "metadata": {},
   "outputs": [
    {
     "name": "stdout",
     "output_type": "stream",
     "text": [
      "Mediana homens classe 3: 25.0\n",
      "Mediana mulheres classe 3: 21.5\n"
     ]
    }
   ],
   "source": [
    "# calcular as medianas da idade para cada sexo na 3 classe\n",
    "mediana_homens_classe3 = df[(df[\"Sex\"] == \"male\") & (df[\"Pclass\"] == 3)][\"Age\"].median()\n",
    "mediana_mulheres_classe3 = df[(df[\"Sex\"] == \"female\") & (df[\"Pclass\"] == 3)][\"Age\"].median()\n",
    "\n",
    "print(f\"Mediana homens classe 3: {mediana_homens_classe3}\")\n",
    "print(f\"Mediana mulheres classe 3: {mediana_mulheres_classe3}\")"
   ]
  },
  {
   "cell_type": "markdown",
   "id": "69b89829",
   "metadata": {},
   "source": [
    "## ✏️ 6. Preenchendo valores ausentes de Age com valores fixos\n",
    "\n",
    "Para avançar no projeto, vamos usar uma abordagem simples: preencher as idades ausentes com valores fixos baseados no sexo do passageiro:\n",
    "\n",
    "- Homens → 25\n",
    "- Mulheres → 21"
   ]
  },
  {
   "cell_type": "code",
   "execution_count": 8,
   "id": "e1d1f373",
   "metadata": {},
   "outputs": [],
   "source": [
    "# preencher homens com idade 25\n",
    "df.loc[(df[\"Age\"].isnull()) & (df[\"Sex\"] == \"male\"), \"Age\"] = 25\n",
    "\n",
    "# preencher mulheres com idade 21\n",
    "df.loc[(df[\"Age\"].isnull()) & (df[\"Sex\"] == \"female\"), \"Age\"] = 21"
   ]
  },
  {
   "cell_type": "code",
   "execution_count": 9,
   "id": "2cad36b7",
   "metadata": {},
   "outputs": [
    {
     "data": {
      "text/plain": [
       "0"
      ]
     },
     "execution_count": 9,
     "metadata": {},
     "output_type": "execute_result"
    }
   ],
   "source": [
    "# confirmar se não restam valores ausentes em Age\n",
    "df['Age'].isnull().sum()"
   ]
  },
  {
   "cell_type": "markdown",
   "id": "a7087f41",
   "metadata": {},
   "source": [
    "## 🧹 7. Revisar colunas disponíveis e preparar para o modelo\n",
    "\n",
    "Vamos verificar todas as colunas do nosso DataFrame e decidir quais serão usadas como **entradas do modelo (features)** e qual será o **alvo (target)**. Também vamos transformar colunas de texto em números quando necessário."
   ]
  },
  {
   "cell_type": "code",
   "execution_count": 10,
   "id": "599a50a1",
   "metadata": {},
   "outputs": [
    {
     "name": "stdout",
     "output_type": "stream",
     "text": [
      "<class 'pandas.core.frame.DataFrame'>\n",
      "RangeIndex: 891 entries, 0 to 890\n",
      "Data columns (total 13 columns):\n",
      " #   Column        Non-Null Count  Dtype  \n",
      "---  ------        --------------  -----  \n",
      " 0   PassengerId   891 non-null    int64  \n",
      " 1   Survived      891 non-null    int64  \n",
      " 2   Pclass        891 non-null    int64  \n",
      " 3   Name          891 non-null    object \n",
      " 4   Sex           891 non-null    object \n",
      " 5   Age           891 non-null    float64\n",
      " 6   SibSp         891 non-null    int64  \n",
      " 7   Parch         891 non-null    int64  \n",
      " 8   Ticket        891 non-null    object \n",
      " 9   Fare          891 non-null    float64\n",
      " 10  Cabin         204 non-null    object \n",
      " 11  Embarked      889 non-null    object \n",
      " 12  NoAgeNoCabin  891 non-null    bool   \n",
      "dtypes: bool(1), float64(2), int64(5), object(5)\n",
      "memory usage: 84.5+ KB\n"
     ]
    }
   ],
   "source": [
    "# ver todas as colunas e tipos\n",
    "df.info()"
   ]
  },
  {
   "cell_type": "markdown",
   "id": "813c9843",
   "metadata": {},
   "source": [
    "## 🧹 8. Remover colunas desnecessárias\n",
    "\n",
    "Vamos excluir colunas que não serão utilizadas no modelo:\n",
    "- `Name`, `Ticket`, `Cabin`, `PassengerId` → não são úteis para prever sobrevivência\n",
    "- `Embarked` → será excluída para evitar tratar nulos neste primeiro projeto"
   ]
  },
  {
   "cell_type": "code",
   "execution_count": 11,
   "id": "4c7c8830",
   "metadata": {},
   "outputs": [],
   "source": [
    "# excluir colunas desnecessárias\n",
    "df = df.drop(columns=['Name', 'Ticket', 'Cabin', 'PassengerId', 'Embarked'])"
   ]
  },
  {
   "cell_type": "markdown",
   "id": "a774bcd9",
   "metadata": {},
   "source": [
    "## 🔁 9. Transformar valores de texto em números\n",
    "\n",
    "O modelo de machine learning só entende números. Vamos transformar a coluna `Sex` em valores binários:\n",
    "- `male` → 1\n",
    "- `female` → 0"
   ]
  },
  {
   "cell_type": "code",
   "execution_count": 12,
   "id": "c11fc4eb",
   "metadata": {},
   "outputs": [],
   "source": [
    "# transformar male em 1 e female em 0\n",
    "df['Sex'] = df['Sex'].map({'male': 1, 'female': 0})\n",
    "\n",
    "# transformar True em 1 e False em 0\n",
    "df['NoAgeNoCabin'] = df['NoAgeNoCabin'].astype(int)"
   ]
  },
  {
   "cell_type": "code",
   "execution_count": 13,
   "id": "f4c53f8c",
   "metadata": {},
   "outputs": [
    {
     "data": {
      "text/html": [
       "<div>\n",
       "<style scoped>\n",
       "    .dataframe tbody tr th:only-of-type {\n",
       "        vertical-align: middle;\n",
       "    }\n",
       "\n",
       "    .dataframe tbody tr th {\n",
       "        vertical-align: top;\n",
       "    }\n",
       "\n",
       "    .dataframe thead th {\n",
       "        text-align: right;\n",
       "    }\n",
       "</style>\n",
       "<table border=\"1\" class=\"dataframe\">\n",
       "  <thead>\n",
       "    <tr style=\"text-align: right;\">\n",
       "      <th></th>\n",
       "      <th>Survived</th>\n",
       "      <th>Pclass</th>\n",
       "      <th>Sex</th>\n",
       "      <th>Age</th>\n",
       "      <th>SibSp</th>\n",
       "      <th>Parch</th>\n",
       "      <th>Fare</th>\n",
       "      <th>NoAgeNoCabin</th>\n",
       "    </tr>\n",
       "  </thead>\n",
       "  <tbody>\n",
       "    <tr>\n",
       "      <th>0</th>\n",
       "      <td>0</td>\n",
       "      <td>3</td>\n",
       "      <td>1</td>\n",
       "      <td>22.0</td>\n",
       "      <td>1</td>\n",
       "      <td>0</td>\n",
       "      <td>7.2500</td>\n",
       "      <td>0</td>\n",
       "    </tr>\n",
       "    <tr>\n",
       "      <th>1</th>\n",
       "      <td>1</td>\n",
       "      <td>1</td>\n",
       "      <td>0</td>\n",
       "      <td>38.0</td>\n",
       "      <td>1</td>\n",
       "      <td>0</td>\n",
       "      <td>71.2833</td>\n",
       "      <td>0</td>\n",
       "    </tr>\n",
       "    <tr>\n",
       "      <th>2</th>\n",
       "      <td>1</td>\n",
       "      <td>3</td>\n",
       "      <td>0</td>\n",
       "      <td>26.0</td>\n",
       "      <td>0</td>\n",
       "      <td>0</td>\n",
       "      <td>7.9250</td>\n",
       "      <td>0</td>\n",
       "    </tr>\n",
       "    <tr>\n",
       "      <th>3</th>\n",
       "      <td>1</td>\n",
       "      <td>1</td>\n",
       "      <td>0</td>\n",
       "      <td>35.0</td>\n",
       "      <td>1</td>\n",
       "      <td>0</td>\n",
       "      <td>53.1000</td>\n",
       "      <td>0</td>\n",
       "    </tr>\n",
       "    <tr>\n",
       "      <th>4</th>\n",
       "      <td>0</td>\n",
       "      <td>3</td>\n",
       "      <td>1</td>\n",
       "      <td>35.0</td>\n",
       "      <td>0</td>\n",
       "      <td>0</td>\n",
       "      <td>8.0500</td>\n",
       "      <td>0</td>\n",
       "    </tr>\n",
       "  </tbody>\n",
       "</table>\n",
       "</div>"
      ],
      "text/plain": [
       "   Survived  Pclass  Sex   Age  SibSp  Parch     Fare  NoAgeNoCabin\n",
       "0         0       3    1  22.0      1      0   7.2500             0\n",
       "1         1       1    0  38.0      1      0  71.2833             0\n",
       "2         1       3    0  26.0      0      0   7.9250             0\n",
       "3         1       1    0  35.0      1      0  53.1000             0\n",
       "4         0       3    1  35.0      0      0   8.0500             0"
      ]
     },
     "execution_count": 13,
     "metadata": {},
     "output_type": "execute_result"
    }
   ],
   "source": [
    "# visualizar as 5 primeiras linhas para conferir se funcionou\n",
    "df.head()"
   ]
  },
  {
   "cell_type": "markdown",
   "id": "668a2edf",
   "metadata": {},
   "source": [
    "## 🎯 10. Separar dados em X (features) e y (alvo)\n",
    "\n",
    "Agora vamos separar os dados em:\n",
    "- `X`: todas as colunas usadas para treinar o modelo\n",
    "- `y`: a coluna `Survived`, que é o que queremos prever"
   ]
  },
  {
   "cell_type": "code",
   "execution_count": 14,
   "id": "346b5718",
   "metadata": {},
   "outputs": [],
   "source": [
    "# separando dados de entrada e de saida (atribuindo todas as colunas, exceto 'Survived' à variável x, e atribuindo apenas essa coluna à variável y')\n",
    "X = df.drop(columns=['Survived'])\n",
    "y = df['Survived']"
   ]
  },
  {
   "cell_type": "markdown",
   "id": "ac263d92",
   "metadata": {},
   "source": [
    "## 🧪 11. Separar os dados em treino e teste\n",
    "\n",
    "Vamos dividir os dados em dois conjuntos:\n",
    "- `X_train`, `y_train`: usados para treinar o modelo\n",
    "- `X_test`, `y_test`: usados para avaliar a performance do modelo"
   ]
  },
  {
   "cell_type": "code",
   "execution_count": 15,
   "id": "49ca2144",
   "metadata": {},
   "outputs": [],
   "source": [
    "# importar função train_test_split de um módulo da biblioteca sklearn\n",
    "from sklearn.model_selection import train_test_split\n",
    "\n",
    "# dividir os dados\n",
    "X_train, X_test, y_train, y_test = train_test_split(X, y, test_size=0.2, random_state=42)"
   ]
  },
  {
   "cell_type": "markdown",
   "id": "8e202460",
   "metadata": {},
   "source": [
    "## 🌳 12. Treinar o modelo com árvore de decisão\n",
    "\n",
    "Vamos treinar um modelo de árvore de decisão usando os dados de treino."
   ]
  },
  {
   "cell_type": "code",
   "execution_count": 16,
   "id": "08c31be1",
   "metadata": {},
   "outputs": [
    {
     "data": {
      "text/plain": [
       "DecisionTreeClassifier()"
      ]
     },
     "execution_count": 16,
     "metadata": {},
     "output_type": "execute_result"
    }
   ],
   "source": [
    "# importar função de um módulo da biblioteca sklearn\n",
    "from sklearn.tree import DecisionTreeClassifier\n",
    "\n",
    "# criar o modelo\n",
    "modelo = DecisionTreeClassifier()\n",
    "\n",
    "# treinar com os dados de treino\n",
    "modelo.fit(X_train, y_train)"
   ]
  },
  {
   "cell_type": "markdown",
   "id": "8b199b9c",
   "metadata": {},
   "source": [
    "## 📈 13. Avaliar o modelo\n",
    "\n",
    "Vamos calcular a **acurácia** do modelo usando os dados de teste."
   ]
  },
  {
   "cell_type": "code",
   "execution_count": 17,
   "id": "38eb4206",
   "metadata": {},
   "outputs": [
    {
     "name": "stdout",
     "output_type": "stream",
     "text": [
      "Acurácia do modelo: 77.65%\n"
     ]
    }
   ],
   "source": [
    "# importar função da sklearn\n",
    "from sklearn.metrics import accuracy_score\n",
    "\n",
    "# fazer previsões\n",
    "y_pred = modelo.predict(X_test)\n",
    "\n",
    "# avaliar acurácia\n",
    "acuracia = accuracy_score(y_test, y_pred)\n",
    "print(f\"Acurácia do modelo: {acuracia:.2%}\")"
   ]
  },
  {
   "cell_type": "markdown",
   "id": "71ce5cf7",
   "metadata": {},
   "source": [
    "## 🔃14. Criar uma função de pré-processamento\n",
    "Vamos criar uma função com os comandos já utilizados anteriormente."
   ]
  },
  {
   "cell_type": "code",
   "execution_count": 18,
   "id": "10aae929",
   "metadata": {},
   "outputs": [],
   "source": [
    "# criar a função\n",
    "def preprocess (df):\n",
    "\n",
    "# criar coluna 'NoAgeNoCabin' (true para quem não tem Age e nem Cabin informados)\n",
    " df ['NoAgeNoCabin'] = df['Age'].isnull() & df['Cabin'].isnull()\n",
    "\n",
    "# preencher idade com base no sexo, com a mediana das idades da 3 classe\n",
    " df.loc[(df['Age'].isnull()) & (df['Sex'] == 'male'), 'Age'] = 25\n",
    " df.loc[(df['Age'].isnull()) & (df['Sex'] == 'female'), 'Age'] = 21\n",
    "\n",
    "# excluir colunas desnecessárias\n",
    " df = df.drop(columns=['Name', 'Ticket', 'Cabin', 'PassengerId', 'Embarked'])\n",
    "\n",
    "# transformar male em 1 e female em 0\n",
    " df['Sex'] = df['Sex'].map({'male': 1, 'female': 0})\n",
    "\n",
    "#transformar True em 1 e False em 0\n",
    " df['NoAgeNoCabin'] = df['NoAgeNoCabin'].astype(int)\n",
    "\n",
    " return df\n"
   ]
  },
  {
   "cell_type": "code",
   "execution_count": null,
   "id": "fb5d2704",
   "metadata": {},
   "outputs": [],
   "source": []
  }
 ],
 "metadata": {
  "kernelspec": {
   "display_name": "Python 3 (ipykernel)",
   "language": "python",
   "name": "python3"
  },
  "language_info": {
   "codemirror_mode": {
    "name": "ipython",
    "version": 3
   },
   "file_extension": ".py",
   "mimetype": "text/x-python",
   "name": "python",
   "nbconvert_exporter": "python",
   "pygments_lexer": "ipython3",
   "version": "3.9.13"
  }
 },
 "nbformat": 4,
 "nbformat_minor": 5
}
